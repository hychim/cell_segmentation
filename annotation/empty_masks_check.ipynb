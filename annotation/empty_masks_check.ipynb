{
 "cells": [
  {
   "cell_type": "code",
   "execution_count": 13,
   "metadata": {},
   "outputs": [],
   "source": [
    "import os\n",
    "import pandas as pd\n",
    "import numpy as np\n",
    "from PIL import Image"
   ]
  },
  {
   "cell_type": "code",
   "execution_count": 14,
   "metadata": {},
   "outputs": [],
   "source": [
    "TRAIN_CSV = \"/home/jovyan/cellpose/masks_sub.csv\"\n",
    "MASKS_PATH = \"/home/jovyan/cellpose/masks/\""
   ]
  },
  {
   "cell_type": "code",
   "execution_count": 15,
   "metadata": {},
   "outputs": [
    {
     "data": {
      "text/plain": [
       "4040"
      ]
     },
     "execution_count": 15,
     "metadata": {},
     "output_type": "execute_result"
    }
   ],
   "source": [
    "df = pd.read_csv(TRAIN_CSV)\n",
    "len(df)"
   ]
  },
  {
   "cell_type": "code",
   "execution_count": 18,
   "metadata": {},
   "outputs": [
    {
     "name": "stdout",
     "output_type": "stream",
     "text": [
      "r16c44f01p01-ch4sk10fk1fl1\n",
      "r03c44f01p01-ch4sk12fk1fl1\n",
      "r12c44f01p01-ch1sk7fk1fl1\n",
      "r15c44f01p01-ch1sk5fk1fl1\n",
      "r11c44f01p01-ch4sk13fk1fl1\n",
      "r16c44f01p01-ch4sk5fk1fl1\n",
      "r03c44f01p01-ch4sk13fk1fl1\n",
      "r15c44f01p01-ch1sk2fk1fl1\n",
      "r06c44f01p01-ch4sk1fk1fl1\n",
      "r04c44f01p01-ch4sk5fk1fl1\n",
      "r04c44f01p01-ch4sk13fk1fl1\n",
      "end\n"
     ]
    }
   ],
   "source": [
    "for idx in range(4040):\n",
    "    name = df.iloc[idx,0]\n",
    "    mask = Image.open(MASKS_PATH  + name + \"_mask.png\")\n",
    "    mask = np.array(mask)\n",
    "\n",
    "    obj_ids = np.unique(mask)\n",
    "    obj_ids = obj_ids[1:]       # remove 0(background)\n",
    "\n",
    "    if len(obj_ids) == 0:\n",
    "        print(name)\n",
    "\n",
    "print(\"end\")"
   ]
  }
 ],
 "metadata": {
  "kernelspec": {
   "display_name": "Python 3.8.10 64-bit",
   "language": "python",
   "name": "python3"
  },
  "language_info": {
   "codemirror_mode": {
    "name": "ipython",
    "version": 3
   },
   "file_extension": ".py",
   "mimetype": "text/x-python",
   "name": "python",
   "nbconvert_exporter": "python",
   "pygments_lexer": "ipython3",
   "version": "3.8.10"
  },
  "orig_nbformat": 4,
  "vscode": {
   "interpreter": {
    "hash": "df0893f56f349688326838aaeea0de204df53a132722cbd565e54b24a8fec5f6"
   }
  }
 },
 "nbformat": 4,
 "nbformat_minor": 2
}
